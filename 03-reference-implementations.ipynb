{
 "cells": [
  {
   "cell_type": "code",
   "execution_count": null,
   "id": "e90ba071-eab6-4266-a2be-2e796f1d7223",
   "metadata": {},
   "outputs": [],
   "source": [
    "import pybryt\n",
    "from typing import List"
   ]
  },
  {
   "cell_type": "markdown",
   "id": "f2b453f1-de2b-4af0-a682-737d3d91f405",
   "metadata": {},
   "source": [
    "# Reference Implementations"
   ]
  },
  {
   "cell_type": "markdown",
   "id": "c4ea6b29-43b4-4742-a4a8-51fc54909ef3",
   "metadata": {},
   "source": [
    "A [**reference implementation**](https://microsoft.github.io/pybryt/html/reference_implementations.html) defines a set of conditions for validating a solution to a problem. A set of reference implementations define the different solutions to a problem set for students, and allow instructors to validate unstructured student code for algorithmic correctness. In PyBryt, these take the form of the [`pybryt.ReferenceImplementation`](https://microsoft.github.io/pybryt/html/api_reference.html#pybryt.reference.ReferenceImplementation) object, which houses a series of annotations that assert conditions on the memory footprint of a submission.\n",
    "\n",
    "Reference implementations can be put to different uses: you may write some based on correct implementations to validate that a submission follows an accepted format, or write some that match incorrect solutions to flag common issues for students. Coupling these with descriptive annotation messages allows for a robust automated feedback system for student work."
   ]
  },
  {
   "cell_type": "markdown",
   "id": "d2482eb0-c25b-40e5-b47f-f77a167d5275",
   "metadata": {},
   "source": [
    "## Creating and Checking Reference Implementations"
   ]
  },
  {
   "cell_type": "markdown",
   "id": "8ce4964e-34ed-4bcd-a29b-fa11a047711a",
   "metadata": {},
   "source": [
    "Reference implementations can be created in a couple of ways: programmatically, by collecting annotations into a list and instantiating the `pybryt.ReferenceImplementation` object, or via compiling a reference notebook that contains annotations. PyBryt automatically tracks every annotation that gets created, so when compiling a notebook, it is not necessary to collect the annotations into a list or create a reference implementation object; instead, PyBryt assumes all of the annotations are part of a single reference implementation and creates the object for you. You can find more information about compiling references [here](https://microsoft.github.io/pybryt/html/reference_implementations.html#automatic-reference-creation).\n",
    "\n",
    "To create a reference implementation programmatically, as we will in this module, annotations are collected into a list which is then passed to the `pybryt.ReferenceImplementation` constructor along with the name of the reference. Let's construct a simple reference for finding the [hailstone sequence](https://en.wikipedia.org/wiki/Collatz_conjecture) of a number. The function `hailstone` below returns the sequence as a list and contains annotations for tracking the progress of the list construction, which are stored in `hailstone_annotations`."
   ]
  },
  {
   "cell_type": "code",
   "execution_count": null,
   "id": "0a4f3188-e74f-4fde-b622-a9e36634f561",
   "metadata": {},
   "outputs": [],
   "source": [
    "hailstone_annotations = []\n",
    "\n",
    "def hailstone(n: int) -> List[int]:\n",
    "    if n == 1:\n",
    "        ret = [n]\n",
    "    elif n % 2 == 0:\n",
    "        ret = [n] + hailstone(n // 2)\n",
    "    else:\n",
    "        ret = [n] + hailstone(3 * n + 1)\n",
    "\n",
    "    hailstone_annotations.append(pybryt.Value(ret))\n",
    "    return ret"
   ]
  },
  {
   "cell_type": "markdown",
   "id": "122ed236-de89-4be3-910b-3c8c9d0cd4ff",
   "metadata": {},
   "source": [
    "Let's test out our `hailstone` implementation. The function `run_hailstone_test_cases` below runs a few test cases on a function `hailstone_fn` which returns a number's hailstone sequence., resetting the `hailstone_annotations` list before each run so that we don't create duplicate annotations. Let's use it to test `hailstone`:"
   ]
  },
  {
   "cell_type": "code",
   "execution_count": null,
   "id": "666aabae-b60e-4d63-bc61-f307e262c812",
   "metadata": {},
   "outputs": [],
   "source": [
    "def run_hailstone_test_cases(hailstone_fn):\n",
    "    global hailstone_annotations\n",
    "    hailstone_annotations = []\n",
    "\n",
    "    assert hailstone_fn(9) == [9, 28, 14, 7, 22, 11, 34, 17, 52, 26, 13, 40, 20, 10, 5, 16, 8, 4, 2, 1]\n",
    "    assert hailstone_fn(50) == \\\n",
    "        [50, 25, 76, 38, 19, 58, 29, 88, 44, 22, 11, 34, 17, 52, 26, 13, 40, 20, 10, 5, 16, 8, 4, 2, 1]\n",
    "    assert hailstone_fn(117) == \\\n",
    "        [117, 352, 176, 88, 44, 22, 11, 34, 17, 52, 26, 13, 40, 20, 10, 5, 16, 8, 4, 2, 1]\n",
    "\n",
    "run_hailstone_test_cases(hailstone)"
   ]
  },
  {
   "cell_type": "markdown",
   "id": "386097d5-3a56-4d8a-973d-33143c20af0a",
   "metadata": {},
   "source": [
    "Now let's create a reference implementation using the `hailstone_annotations` list. We'll call the reference `hailstone`."
   ]
  },
  {
   "cell_type": "code",
   "execution_count": null,
   "id": "a2e63238-11d1-4c0a-9cda-d494ac33c9b1",
   "metadata": {},
   "outputs": [],
   "source": [
    "hailstone_ref = pybryt.ReferenceImplementation(\"hailstone\", hailstone_annotations)"
   ]
  },
  {
   "cell_type": "markdown",
   "id": "545369a8-2aa8-43c5-8b34-4e984701cee5",
   "metadata": {},
   "source": [
    "Using the context manager `pybryt.check`, we can run our test cases against this reference implementation to validate that everything is working:"
   ]
  },
  {
   "cell_type": "code",
   "execution_count": null,
   "id": "f6f55e9e-2631-412b-82e6-47f6fc2c6b1f",
   "metadata": {},
   "outputs": [],
   "source": [
    "with pybryt.check(hailstone_ref):\n",
    "    run_hailstone_test_cases(hailstone)"
   ]
  },
  {
   "cell_type": "markdown",
   "id": "b01d44e2-e4ed-408f-a0ae-9df73373fb0b",
   "metadata": {},
   "source": [
    "## Using Multiple Reference Implementations"
   ]
  },
  {
   "cell_type": "markdown",
   "id": "d810ace9-bcd5-4a6b-935f-c2c672dc74ee",
   "metadata": {},
   "source": [
    "Now that we understand how to construct single references, let's take a look at combining multiple references. One of PyBryt's core ideas is to be flexible and student-implementation-agnostic, allowing instructors to write multiple reference implementations for the various was that students can solve problems. To demonstrate this, let's create another reference for the hailstone sequence. The implementation above used recursion to construct the list from the bottom-up, giving us a series of annotations that look like this:"
   ]
  },
  {
   "cell_type": "code",
   "execution_count": null,
   "id": "92493d97-a1ef-4f2f-b073-11f3b06c54f6",
   "metadata": {},
   "outputs": [],
   "source": [
    "[hailstone_annotations[i].initial_value for i in range(len(hailstone_annotations)) if i < 20]"
   ]
  },
  {
   "cell_type": "markdown",
   "id": "0a8271c4-9311-4e07-8693-595485c9c5fd",
   "metadata": {},
   "source": [
    "But suppose that the student instead constructed the list iteratively, from the top-down:"
   ]
  },
  {
   "cell_type": "code",
   "execution_count": null,
   "id": "8d92f6de-6379-4b15-bc76-7b5bb9607da3",
   "metadata": {},
   "outputs": [],
   "source": [
    "def iterative_hailstone(n: int) -> List[int]:\n",
    "    ret = [n]\n",
    "    while n != 1:\n",
    "        if n % 2 == 0:\n",
    "            n = n // 2\n",
    "        else:\n",
    "            n = 3 * n + 1\n",
    "        ret.append(n)\n",
    "        hailstone_annotations.append(pybryt.Value(ret))\n",
    "    return ret"
   ]
  },
  {
   "cell_type": "markdown",
   "id": "0974ae39-b9e0-4193-9c73-f37d1d915fc4",
   "metadata": {},
   "source": [
    "Let's try testing this implementation against our reference. We should see that it fails, even though `run_hailstone_test_cases` doesn't raise any errors. This is because the `iterative_hailstone` function is a correct implementation, but it doesn't follow the agorithm `hailstone_ref` is expecting."
   ]
  },
  {
   "cell_type": "code",
   "execution_count": null,
   "id": "c2856623-780b-4554-824e-21deff022622",
   "metadata": {},
   "outputs": [],
   "source": [
    "with pybryt.check(hailstone_ref):\n",
    "    run_hailstone_test_cases(iterative_hailstone)"
   ]
  },
  {
   "cell_type": "markdown",
   "id": "da609c58-d203-49b9-b910-6b807b6a8bb0",
   "metadata": {},
   "source": [
    "To solve this issue, let's turn `iterative_hailstone` into its own reference:"
   ]
  },
  {
   "cell_type": "code",
   "execution_count": null,
   "id": "caa67af5-739e-41a4-86ba-51ad76f2ea4b",
   "metadata": {},
   "outputs": [],
   "source": [
    "iterative_hailstone_ref = pybryt.ReferenceImplementation(\"iterative_hailstone\", hailstone_annotations)\n",
    "iterative_hailstone_ref"
   ]
  },
  {
   "cell_type": "markdown",
   "id": "35bf49a3-86f1-426a-a86e-5a41840cc6a6",
   "metadata": {},
   "source": [
    "To run checks against multiple reference implementations, simply pass in a list of them. Let's validate our old and new references using `pybryt.check`; we should see that each implementation satisfied one of the references, allowing us to check for two different kinds of implementations!"
   ]
  },
  {
   "cell_type": "code",
   "execution_count": null,
   "id": "37bd5e21-f34f-4c49-bfa6-06c4ddb8c947",
   "metadata": {},
   "outputs": [],
   "source": [
    "with pybryt.check([hailstone_ref, iterative_hailstone_ref]):\n",
    "    run_hailstone_test_cases(hailstone)\n",
    "\n",
    "print()\n",
    "\n",
    "with pybryt.check([hailstone_ref, iterative_hailstone_ref]):\n",
    "    run_hailstone_test_cases(iterative_hailstone)"
   ]
  }
 ],
 "metadata": {
  "kernelspec": {
   "display_name": "py37_default",
   "language": "python",
   "name": "conda-env-py37_default-py"
  },
  "language_info": {
   "codemirror_mode": {
    "name": "ipython",
    "version": 3
   },
   "file_extension": ".py",
   "mimetype": "text/x-python",
   "name": "python",
   "nbconvert_exporter": "python",
   "pygments_lexer": "ipython3",
   "version": "3.7.7"
  }
 },
 "nbformat": 4,
 "nbformat_minor": 5
}
