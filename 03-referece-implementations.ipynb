{
 "cells": [
  {
   "cell_type": "code",
   "execution_count": 1,
   "id": "e90ba071-eab6-4266-a2be-2e796f1d7223",
   "metadata": {},
   "outputs": [],
   "source": [
    "import pybryt"
   ]
  },
  {
   "cell_type": "markdown",
   "id": "f2b453f1-de2b-4af0-a682-737d3d91f405",
   "metadata": {},
   "source": [
    "# Reference Implementations"
   ]
  },
  {
   "cell_type": "markdown",
   "id": "c4ea6b29-43b4-4742-a4a8-51fc54909ef3",
   "metadata": {},
   "source": [
    "A [**reference implementation**](https://microsoft.github.io/pybryt/html/reference_implementations.html) defines a set of conditions for validating a solution to a problem. A set of reference implementations define the different solutions to a problem set for students, and allow instructors to validate unstructured student code for algorithmic correctness. In PyBryt, these take the form of the [`pybryt.ReferenceImplementation`](https://microsoft.github.io/pybryt/html/api_reference.html#pybryt.reference.ReferenceImplementation) object, which houses a series of annotations that assert conditions on the memory footprint of a submission.\n",
    "\n",
    "Reference implementations can be put to different uses: you may write some based on correct implementations to validate that a submission follows an accepted format, or write some that match incorrect solutions to flag common issues for students. Coupling these with descriptive annotation messages allows for a robust automated feedback system for student work."
   ]
  },
  {
   "cell_type": "markdown",
   "id": "d2482eb0-c25b-40e5-b47f-f77a167d5275",
   "metadata": {},
   "source": [
    "## Creating Reference Implementations"
   ]
  },
  {
   "cell_type": "code",
   "execution_count": null,
   "id": "0a4f3188-e74f-4fde-b622-a9e36634f561",
   "metadata": {},
   "outputs": [],
   "source": []
  },
  {
   "cell_type": "markdown",
   "id": "b01d44e2-e4ed-408f-a0ae-9df73373fb0b",
   "metadata": {},
   "source": [
    "## Using Multiple Reference Implementations"
   ]
  },
  {
   "cell_type": "code",
   "execution_count": null,
   "id": "8d92f6de-6379-4b15-bc76-7b5bb9607da3",
   "metadata": {},
   "outputs": [],
   "source": []
  },
  {
   "cell_type": "markdown",
   "id": "8046f844-fa81-4c62-a93f-8df29751f5b4",
   "metadata": {},
   "source": [
    "## How References are Checked Against"
   ]
  },
  {
   "cell_type": "code",
   "execution_count": null,
   "id": "93f751f5-bda9-48eb-8461-c5f0b0c221e8",
   "metadata": {},
   "outputs": [],
   "source": []
  },
  {
   "cell_type": "code",
   "execution_count": null,
   "id": "fd124ff4-4eab-47f2-92a9-a44dee439cec",
   "metadata": {},
   "outputs": [],
   "source": []
  }
 ],
 "metadata": {
  "kernelspec": {
   "display_name": "Python 3",
   "language": "python",
   "name": "python3"
  },
  "language_info": {
   "codemirror_mode": {
    "name": "ipython",
    "version": 3
   },
   "file_extension": ".py",
   "mimetype": "text/x-python",
   "name": "python",
   "nbconvert_exporter": "python",
   "pygments_lexer": "ipython3",
   "version": "3.7.7"
  }
 },
 "nbformat": 4,
 "nbformat_minor": 5
}
