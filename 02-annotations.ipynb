{
 "cells": [
  {
   "cell_type": "code",
   "execution_count": null,
   "id": "7ccd7811-5e67-4ccf-9f0b-307596acfdad",
   "metadata": {},
   "outputs": [],
   "source": [
    "import hashlib\n",
    "import numpy as np\n",
    "import pybryt"
   ]
  },
  {
   "cell_type": "markdown",
   "id": "94fe91d0-7013-40d5-aa7d-ebf91e464e64",
   "metadata": {},
   "source": [
    "# Annotations"
   ]
  },
  {
   "cell_type": "markdown",
   "id": "ee25ab8a-0b15-4abf-a6be-8299261307cf",
   "metadata": {},
   "source": [
    "To understand how to build a reference implementation, we must first take a look at the building blocks of reference implementations: annotations. **Annotations** are Python objects that an instructor creates to assert conditions on each submission; these can be things like the presence of a value, the temporal relationship between values, or even the time complexity of a block of code. Annotations are created by instantiating classes provided by the `pybryt` package.\n",
    "\n",
    "There are three main types of annotations:\n",
    "\n",
    "* _value annotations_, which assert the presence of some value in the student's memory footprint\n",
    "* _relational annotations_, which assert a relationship between values in the student's memory footprint, founded in boolean logic or temporality\n",
    "* _complexity annotations_, which assert a time complexity on a block of code\n",
    "\n",
    "In this module, we will discuss the first."
   ]
  },
  {
   "cell_type": "markdown",
   "id": "c25b54b8-130e-40c6-9979-04ef4b42b209",
   "metadata": {},
   "source": [
    "## Value Annotations\n",
    "\n",
    "[**Value annotations**](https://microsoft.github.io/pybryt/html/annotations/value_annotations.html) assert the presence of a value in the student's memory footprint. They are created by instantiating the class [`pybryt.Value`](https://microsoft.github.io/pybryt/html/api_reference.html#pybryt.annotations.value.Value), which takes the value you want to look for as its only positional argument.\n",
    "\n",
    "Consider, for example, that you wanted to check that a student correctly initialized an array. In a reference implementation, you would initialize the array, and then create an instance of the class:"
   ]
  },
  {
   "cell_type": "code",
   "execution_count": null,
   "id": "411feb42-017d-41fb-b9c3-28ae85955cff",
   "metadata": {},
   "outputs": [],
   "source": [
    "np.random.seed(42)\n",
    "arr = np.random.normal(size=(100,100))\n",
    "pybryt.Value(arr)"
   ]
  },
  {
   "cell_type": "markdown",
   "id": "a483f56f-54b0-49db-af13-62f059abf318",
   "metadata": {},
   "source": [
    "All annotations that are created are internally tracked by PyBryt, so there's no need to assign them to a variable unless you want to use them to create more complex annotations (more on that below).\n",
    "\n",
    "Value annotations, when being used to check numerical values (including arrays, iterables of numbers, and dataframes), also support absolute and relative tolerance using the `atol` and `rtol` arguments:"
   ]
  },
  {
   "cell_type": "code",
   "execution_count": null,
   "id": "b66dad6f-4298-4ae4-94d9-1e7dc0b6103f",
   "metadata": {},
   "outputs": [],
   "source": [
    "value_annotation = pybryt.Value(arr, atol=1e-3)\n",
    "value_annotation.check_against(arr.round(3)), value_annotation.check_against(arr.round(2))"
   ]
  },
  {
   "cell_type": "markdown",
   "id": "a0d6e7f4-67b0-45da-965b-b2c94c46fcc2",
   "metadata": {},
   "source": [
    "The method `pybryt.Value.check_against` returns a boolean value indicating whether the object passed to it satisfies the value annotation. As you can see above, by allowing an absolute tolerance of $10^{-3}$, the value was satisfied when the array values were rounded to thre places, but failed when rounded to two places."
   ]
  },
  {
   "cell_type": "markdown",
   "id": "11b2c692-060e-4f9e-8cb9-432db1c382dc",
   "metadata": {},
   "source": [
    "### Equivalence Fuctions\n",
    "\n",
    "While `Value` objects define an algorithm to determine whether two objects are equal, they also allow users to specify a custom equivalence function to be used for the comparison. For example, let's say you wanted to look for a string in the student's code, but were unconcerned about the capitalization of that string. You could use a custom equivalence function that compares the lowercased representation of two strings:"
   ]
  },
  {
   "cell_type": "code",
   "execution_count": null,
   "id": "e49f2d58-50a7-4d32-a79b-6ecef25d596c",
   "metadata": {},
   "outputs": [],
   "source": [
    "def str_equal_lower(s1, s2):\n",
    "    return s1.lower() == s2.lower()"
   ]
  },
  {
   "cell_type": "markdown",
   "id": "5dfeb4dc-c0a0-48ae-9438-88479778b33b",
   "metadata": {},
   "source": [
    "Then, we could use this function to create a `Value` annotation to check hexadecimal strings, for example:"
   ]
  },
  {
   "cell_type": "code",
   "execution_count": null,
   "id": "40d6f34f-d6d0-41fb-8409-ddd8940146ce",
   "metadata": {},
   "outputs": [],
   "source": [
    "message = \"hash me\"\n",
    "sha1_hash = hashlib.sha1(message.encode()).hexdigest()\n",
    "\n",
    "sha1_annotation = pybryt.Value(sha1_hash, equivalence_fn=str_equal_lower)\n",
    "sha1_annotation.check_against(sha1_hash.upper())"
   ]
  },
  {
   "cell_type": "markdown",
   "id": "90e5be07-bcb7-443a-86ff-4a56805eb8e2",
   "metadata": {},
   "source": [
    "## Annotation Options\n",
    "\n",
    "All annotations support some options that allow you to tailor the feedback your students receive as a result of the passing or failing of those annotations. The two primary methods of providing this feedback are using the `success_message` and `failure_message` arguments in the constructor, available to all annotations:"
   ]
  },
  {
   "cell_type": "code",
   "execution_count": null,
   "id": "f51b297c-601a-4277-a7df-9fb0397eac0c",
   "metadata": {},
   "outputs": [],
   "source": [
    "v = pybryt.Value(1, success_message=\"Found 1!\", failure_message=\"Didn't find 1 :(\")"
   ]
  },
  {
   "cell_type": "markdown",
   "id": "0f03e8ee-d30d-4540-9c43-a380ad64dc80",
   "metadata": {},
   "source": [
    "If the value is found in the student's memory footprint, the `success_message` will be included in the report that is generated by PyBryt's student implementation checker (more on that later); if it is not found, the `failure_message` will be included. If these are not provided, no message is shown.\n",
    "\n",
    "These can also be set by updating the correspondingly-named fields in the annotation object:"
   ]
  },
  {
   "cell_type": "code",
   "execution_count": null,
   "id": "72a988c1-3009-4892-b566-603484da59fe",
   "metadata": {},
   "outputs": [],
   "source": [
    "v.success_message = \"Congrats!\"\n",
    "v.failure_message = \"Try again\""
   ]
  },
  {
   "cell_type": "markdown",
   "id": "66f0d289-dd07-415b-b9ec-e6b18a35e23f",
   "metadata": {},
   "source": [
    "## Collection Annotations\n",
    "\n",
    "The most basic type of relational annotation is the [collection annotation](https://microsoft.github.io/pybryt/html/annotations/collections.html), which simply collects a group of annotations together so they can be operated on as a unit. It is possible to enforce the order of the annotations in the collection (based on insertion order), but this is optional. Like all other annotations, feedback can be provided based on whether the collection is satisfied using the `success_message` and `failure_message` arguments.\n",
    "\n",
    "To create a collection, instantiate a `pybryt.Collection`. The constructor takes any number of positional arguments, which correspond to the initial set of annotations in the collection. To initialize an empty collection, provide no positional arguments."
   ]
  },
  {
   "cell_type": "code",
   "execution_count": null,
   "id": "f088560d-8d99-40e2-8ba8-9e9d68c2299b",
   "metadata": {},
   "outputs": [],
   "source": [
    "col = pybryt.Collection(pybryt.Value(1))"
   ]
  },
  {
   "cell_type": "markdown",
   "id": "8400a04c-0d73-4efc-b11f-94babba69d9e",
   "metadata": {},
   "source": [
    "To enforce the order of annotations in the collection, pass `enforce_order=True`:"
   ]
  },
  {
   "cell_type": "code",
   "execution_count": null,
   "id": "110f537d-8abc-4afb-aa94-1fa1b5a521db",
   "metadata": {},
   "outputs": [],
   "source": [
    "col = pybryt.Collection(pybryt.Value(1), enforce_order=True)"
   ]
  },
  {
   "cell_type": "markdown",
   "id": "b39fcb07-e4d9-443e-97f6-9449d5b6c9e4",
   "metadata": {},
   "source": [
    "Annotations can be added to the collection using `pybryt.Collection.add`:"
   ]
  },
  {
   "cell_type": "code",
   "execution_count": null,
   "id": "7c181481-688b-4ae2-ac20-ff10014adcf3",
   "metadata": {},
   "outputs": [],
   "source": [
    "col.add(pybryt.Value(2))"
   ]
  },
  {
   "cell_type": "markdown",
   "id": "b1de7e3f-b0af-430b-97b0-aeb00e003282",
   "metadata": {},
   "source": [
    "An annotation collection is satisfied when all of its children are satisfied and, if `enforce_order` is true, if the satisfying timestamps of its children occur in non-decreasing order. For example, let's check `col` against two memory footprints: one in which 1 occurs before 2, and the other in which 2 occurs before 1."
   ]
  },
  {
   "cell_type": "code",
   "execution_count": null,
   "id": "eb41982b-3873-482d-a392-f04647357c0d",
   "metadata": {},
   "outputs": [],
   "source": [
    "col.check([(1, 1), (2, 2)]), col.check([(2, 1), (1, 2)])"
   ]
  }
 ],
 "metadata": {
  "kernelspec": {
   "display_name": "py37_default",
   "language": "python",
   "name": "conda-env-py37_default-py"
  },
  "language_info": {
   "codemirror_mode": {
    "name": "ipython",
    "version": 3
   },
   "file_extension": ".py",
   "mimetype": "text/x-python",
   "name": "python",
   "nbconvert_exporter": "python",
   "pygments_lexer": "ipython3",
   "version": "3.7.7"
  }
 },
 "nbformat": 4,
 "nbformat_minor": 5
}
